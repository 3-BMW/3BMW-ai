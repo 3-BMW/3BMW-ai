{
 "cells": [
  {
   "cell_type": "code",
   "execution_count": 4,
   "metadata": {},
   "outputs": [],
   "source": [
    "import pandas as pd\n",
    "import numpy as np\n",
    "import matplotlib.pyplot as plt\n",
    "\n",
    "import json\n",
    "from tqdm import tqdm"
   ]
  },
  {
   "cell_type": "code",
   "execution_count": null,
   "metadata": {},
   "outputs": [],
   "source": [
    "\"\"\"\n",
    "    TODO\n",
    "    일단 식품 대분류, 상세분류 기준으로 mapping하고... \n",
    "    지역/ 제조사별로도 mapping이 가능할 듯.. 이 때 전국(대표)는 제외하자.\n",
    "    근데 이게 그냥 sql로 조회해서 주는 방법도 가능하지 않을까..? 그것보다 조금 embedding vector에 맞춰서.. 추천해준다고 생각을 하자..!\n",
    "    닭갈비 하면 -> 춘천이라는 단어가 나올수도 있으면 좋겠다..!\n",
    "    도미노피자 -> 피자 종류가 나오는 것도 괜찮을 수도..! 일단 하나씩 천천히 진행을 해보자..!\n",
    "\n",
    "    1. 소분류 기준으로 + 상품명이 지엽적인 것이 많다고 판단..! -> 일단 외식 제품은 제외를 하고 학습을 진행 ! -> DONE\n",
    "    2. 소분류에 없는 대분류도 포함..?\n",
    "    3. 지역도 포함..?\n",
    "    4. 제조사도 추가..!\n",
    "\n",
    "\"\"\""
   ]
  },
  {
   "cell_type": "code",
   "execution_count": null,
   "metadata": {},
   "outputs": [],
   "source": [
    "\"\"\"\n",
    "    IDEA\n",
    "    학습을 할 때에 같은 list더라도 window size가 있기에.. 랜덤으로 학습을 해도 괜춘할 것 같네..?\n",
    "    -> 근데 그렇게 하면 window 밖의 친구들은 .. negative sample로 생각을 하려나..? 이것도 해봐야 조금 알 것 같네유\n",
    "\"\"\""
   ]
  },
  {
   "cell_type": "code",
   "execution_count": 16,
   "metadata": {},
   "outputs": [
    {
     "name": "stdout",
     "output_type": "stream",
     "text": [
      "4628\n"
     ]
    }
   ],
   "source": [
    "DATA_PATH= './data/food_data.csv'\n",
    "JSON_PATH= './data/small_major_set_data.json'\n",
    "\n",
    "data= pd.read_csv(DATA_PATH)\n",
    "# data.head()\n",
    "print(len(list(set(data[data['상용제품']=='품목대표']['식품명'].values))))"
   ]
  },
  {
   "cell_type": "code",
   "execution_count": 18,
   "metadata": {},
   "outputs": [
    {
     "data": {
      "text/plain": [
       "'선 냉동 유부, 두부봉 치즈, 두부봉, 클래식, 유부, 유부, 유부, 조미유부, 초밥유부, 새콤달콤 유부초밥, 초밥의 달인 나들이 행복기획, 새콤달콤 유부초밥 가족나들이세트, 초밥의 달인, 고소한 유부초밥, 새콤달콤유부초밥 한정나들이세트, 유부, 조미유부'"
      ]
     },
     "execution_count": 18,
     "metadata": {},
     "output_type": "execute_result"
    }
   ],
   "source": [
    "# 너무 지엽적인 상품명이 많다고 느낌..!\n",
    "data_group_by_small= data.groupby('식품상세분류')['식품명'].apply(list)\n",
    "', '.join(data_group_by_small.values[0])"
   ]
  },
  {
   "cell_type": "code",
   "execution_count": 44,
   "metadata": {},
   "outputs": [],
   "source": [
    "# max length : 747\n",
    "use_data= data[data['상용제품']=='품목대표'].groupby('식품상세분류')['식품명'].apply(set).apply(list)\n",
    "\n",
    "\n",
    "# JSON_PATH= './data/small_major_set_data.json'\n",
    "with open (JSON_PATH, 'w') as f:\n",
    "    f.write(json.dumps(use_data.values.tolist(), ensure_ascii=False))"
   ]
  },
  {
   "cell_type": "code",
   "execution_count": 47,
   "metadata": {},
   "outputs": [
    {
     "name": "stdout",
     "output_type": "stream",
     "text": [
      "[['야콘, 뿌리, 생것', '토란, 생것', '고구마, 찐것', '감자, 보라밸리, 생것', '감자, 자색, 찐것', '전분, 고구마, 가루 ', '감자, 수미, 삶은것', '감자 샐러드', '곤약(구약나물), 국수형, 생것', '감자, 수미, 생것', '감자, 수미, 찐것', '칡뿌리, 생것', '고구마, 점질(호박) 고구마, 구운것', '고구마, 연황미, 생것', '토란, 삶은것', '감자, 대지, 삶은것', '히카마(얌빈), 삶은것', '고구마, 점질(호박) 고구마, 찐것', '감자, 자색, 생것', '천마, 생것', '토란, 찐것', '전분, 옥수수, 가루', '감자, 로즈, 생것', '감자, 수미, 구운것', '감자 과자, 감자칩, 구운것', '곤약(구약나물), 가루 ', '돼지감자, 삶은것', '마, 장마, 삶은것', '전분, 쌀, 가루', '히카마(얌빈), 생것', '고구마, 베니하루까, 생것', '고구마, 신율미, 생것', '아피오스감자, 생것', '고구마, 분질(밤) 고구마, 찐것', '고구마, 신자미, 생것', '칡즙', '감자 튀김, 튀긴것', '고구마, 주황미, 생것', '감자, 대지, 구운것', '당면, 고구마, 감자, 말린것', '곤약(구약나물), 판형, 생것', '당면, 고구마, 말린것', '감자 과자, 감자칩, 튀긴것', '전분, 밀, 가루', '전분, 옥수수, 밀, 가루 ', '감자, 로즈, 삶은것', '고구마, 진홍미, 생것', '전분, 감자, 가루', '전분, 칡뿌리, 가루', '고구마, 분질(밤) 고구마, 생것', '감자, 자심, 생것', '마, 장마, 생것', '감자, 보라밸리, 삶은것', '당면, 고구마, 삶은것', '감자, 대지, 생것', '천마, 찐것', '돼지감자, 생것', '고구마, 분질(밤) 고구마, 구운것', '감자, 대지, 찐것', '마, 둥근마, 생것', '돼지감자, 말린것', '마, 단마, 생것', '으깬감자', '고구마, 말린것', '감자, 부침가루 ', '고구마, 점질(호박) 고구마, 생것', '감자 튀김, 해쉬브라운, 튀긴것']]\n"
     ]
    }
   ],
   "source": [
    "with open(JSON_PATH, 'r') as f:\n",
    "    data= json.load(f)\n",
    "print(data[:1])"
   ]
  },
  {
   "cell_type": "code",
   "execution_count": null,
   "metadata": {},
   "outputs": [],
   "source": []
  }
 ],
 "metadata": {
  "interpreter": {
   "hash": "2e75d190a05bf5b0b3a3b9c09da66a3c0aa50eca6da3fa020738b27f11901d61"
  },
  "kernelspec": {
   "display_name": "Python 3.7.10 ('torch': conda)",
   "language": "python",
   "name": "python3"
  },
  "language_info": {
   "codemirror_mode": {
    "name": "ipython",
    "version": 3
   },
   "file_extension": ".py",
   "mimetype": "text/x-python",
   "name": "python",
   "nbconvert_exporter": "python",
   "pygments_lexer": "ipython3",
   "version": "3.7.10"
  },
  "orig_nbformat": 4
 },
 "nbformat": 4,
 "nbformat_minor": 2
}
